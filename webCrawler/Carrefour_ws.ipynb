{
 "cells": [
  {
   "cell_type": "code",
   "execution_count": 32,
   "metadata": {},
   "outputs": [],
   "source": [
    "from selenium import webdriver\n",
    "from selenium.common.exceptions import TimeoutException\n",
    "from selenium.webdriver.support.ui import WebDriverWait\n",
    "from selenium.webdriver.support import expected_conditions as EC\n",
    "from selenium.webdriver.common.by import By\n",
    "from time import sleep\n",
    "import os,re\n",
    "from pprint import pprint\n",
    "import numpy as np\n",
    "import pandas as pd\n"
   ]
  },
  {
   "cell_type": "code",
   "execution_count": 29,
   "metadata": {},
   "outputs": [],
   "source": [
    "# Options\n",
    "options = webdriver.ChromeOptions()\n",
    "options.add_argument(\"--start-maximized\")\n",
    "options.add_argument(\"--incognito\")\n",
    "options.add_argument(\"--disable-popup-blocking \")\n",
    "#driver\n",
    "driver = webdriver.Chrome(options = options)\n",
    "driver.maximize_window()\n",
    "\n",
    "list_name=[]\n",
    "list_addr=[]\n",
    "listData=[]\n",
    "\n",
    "def visit():\n",
    "    driver.get('https://www.carrefour.com.tw/stores/')\n",
    "    \n",
    "def scrolldown():\n",
    "    innerHeightOfWindow = 0\n",
    "    totalOffset = 0\n",
    "    \n",
    "    while totalOffset <= innerHeightOfWindow:\n",
    "        totalOffset += 900;\n",
    "        \n",
    "        sleep(1)\n",
    "        \n",
    "        js_scroll = '''(\n",
    "            function (){{\n",
    "                window.scrollTo({{\n",
    "                    top:{}, \n",
    "                    behavior: 'smooth' \n",
    "                }});\n",
    "            }})();'''.format(totalOffset)\n",
    "        \n",
    "        driver.execute_script(js_scroll)\n",
    "        \n",
    "        sleep(1)\n",
    "        \n",
    "        innerHeightOfWindow = driver.execute_script(\n",
    "            'return window.document.documentElement.scrollHeight;'\n",
    "        );\n",
    "        \n",
    "        sleep(1)\n",
    "        \n",
    "def getdata():\n",
    "    a_elms = driver.find_elements(By.CSS_SELECTOR,'h5[class=\"h4 text-center mb-4\"]')\n",
    "    b_elms = driver.find_elements(By.CSS_SELECTOR,'ul[class=\"traffic-info-list\"]>li:first-child')\n",
    "    for a in a_elms:\n",
    "        list_name.append(a.get_attribute('innerText'))\n",
    "    for b in b_elms:\n",
    "        list_addr.append(b.get_attribute('innerText'))\n",
    "    \n",
    "    c = {\"店名\":list_name,\"地址\":list_addr}\n",
    "    \n",
    "    df=pd.DataFrame(c)\n",
    "    df.to_csv(\"./Carrefour.csv\",mode=\"w\",encoding=\"utf_8_sig\",index=False)\n",
    "        \n",
    "#======================================        \n",
    "    \n",
    "if __name__ == '__main__':\n",
    "    visit()\n",
    "    scrolldown()\n",
    "    getdata()"
   ]
  },
  {
   "cell_type": "code",
   "execution_count": 33,
   "metadata": {},
   "outputs": [
    {
     "ename": "AttributeError",
     "evalue": "module 're' has no attribute 'find'",
     "output_type": "error",
     "traceback": [
      "\u001b[1;31m---------------------------------------------------------------------------\u001b[0m",
      "\u001b[1;31mAttributeError\u001b[0m                            Traceback (most recent call last)",
      "\u001b[1;32m<ipython-input-33-e50a8657d490>\u001b[0m in \u001b[0;36m<module>\u001b[1;34m\u001b[0m\n\u001b[0;32m      1\u001b[0m \u001b[0mstrContent\u001b[0m\u001b[1;33m=\u001b[0m\u001b[1;34m\"高雄九如1店\\n24h\"\u001b[0m\u001b[1;33m\u001b[0m\u001b[1;33m\u001b[0m\u001b[0m\n\u001b[0;32m      2\u001b[0m \u001b[0mregex02\u001b[0m \u001b[1;33m=\u001b[0m \u001b[1;34mr'[\\u4E00-\\u9FFF，。：「」；、？！『』]+'\u001b[0m\u001b[1;33m\u001b[0m\u001b[1;33m\u001b[0m\u001b[0m\n\u001b[1;32m----> 3\u001b[1;33m \u001b[0mmatch02\u001b[0m \u001b[1;33m=\u001b[0m \u001b[0mre\u001b[0m\u001b[1;33m.\u001b[0m\u001b[0mfind\u001b[0m\u001b[1;33m(\u001b[0m\u001b[0mregex02\u001b[0m\u001b[1;33m,\u001b[0m\u001b[0mstrContent\u001b[0m\u001b[1;33m)\u001b[0m\u001b[1;33m\u001b[0m\u001b[1;33m\u001b[0m\u001b[0m\n\u001b[0m",
      "\u001b[1;31mAttributeError\u001b[0m: module 're' has no attribute 'find'"
     ]
    }
   ],
   "source": [
    "strContent=\"高雄九如1店\\n24h\"\n",
    "regex02 = r'[\\u4E00-\\u9FFF，。：「」；、？！『』]+'\n",
    "match02 = re.findall(regex02,strContent)"
   ]
  },
  {
   "cell_type": "code",
   "execution_count": null,
   "metadata": {},
   "outputs": [],
   "source": []
  }
 ],
 "metadata": {
  "kernelspec": {
   "display_name": "Python 3",
   "language": "python",
   "name": "python3"
  },
  "language_info": {
   "codemirror_mode": {
    "name": "ipython",
    "version": 3
   },
   "file_extension": ".py",
   "mimetype": "text/x-python",
   "name": "python",
   "nbconvert_exporter": "python",
   "pygments_lexer": "ipython3",
   "version": "3.8.5"
  }
 },
 "nbformat": 4,
 "nbformat_minor": 4
}
